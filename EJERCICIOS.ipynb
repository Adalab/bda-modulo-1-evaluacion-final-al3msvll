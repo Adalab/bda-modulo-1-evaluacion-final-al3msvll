{
 "cells": [
  {
   "cell_type": "code",
   "execution_count": 366,
   "id": "e3cbf77a",
   "metadata": {},
   "outputs": [],
   "source": [
    "#ESTRUCTURAS EVALUACIÓN MÓDULO 1\n",
    "#1. `inventario` (lista de diccionarios): Una estructura para almacenar los productos en el inventario. Cada producto debe ser representado como un diccionario con las siguientes claves: `'nombre'`, `'precio'`, y'cantidad'`. Al principio deberá ser una lista vacía.\n",
    "inventario = []\n"
   ]
  },
  {
   "cell_type": "code",
   "execution_count": 367,
   "id": "758e9efa",
   "metadata": {},
   "outputs": [],
   "source": [
    "#2. `clientes` (diccionario): Una estructura para llevar un registro de los clientes de la tienda. Cada cliente debe ser representado como undiccionario con las siguientes claves: `'nombre'` y `'email'`. Al inicio deberá ser un diccionario vacío. Además, cada cliente debe tener un historial de compras.\n",
    "\n",
    "clientes = {}\n"
   ]
  },
  {
   "cell_type": "code",
   "execution_count": 368,
   "id": "64e3be23",
   "metadata": {},
   "outputs": [],
   "source": [
    "#3. `ventas_totales` (float): Una variable para llevar un registro de las ventas totales de la tienda. Inicializalo con valor 0.\n",
    "ventas_totales = 0.0"
   ]
  },
  {
   "cell_type": "code",
   "execution_count": 369,
   "id": "85f912cd",
   "metadata": {},
   "outputs": [
    {
     "data": {
      "text/plain": [
       "list"
      ]
     },
     "execution_count": 369,
     "metadata": {},
     "output_type": "execute_result"
    }
   ],
   "source": [
    "type(inventario)"
   ]
  },
  {
   "cell_type": "code",
   "execution_count": 370,
   "id": "c6d8868c",
   "metadata": {},
   "outputs": [],
   "source": [
    "#1 Crea una función 'agregar_producto(nombre, precio, cantidad)`: Esta función agrega un producto al inventario o actualiza su cantidad si ya existe. Debe recibir el nombre, precio y cantidad del producto como parámetros.\n",
    "#Itera a través del inventario y compara los nombres de los productos con el nombre proporcionado.\n",
    "#Si el producto ya existe, actualiza la cantidad.\n",
    "#Si no existe, agrega un nuevo producto al inventario.\n",
    "def agregar_producto(nombre, precio, cantidad):\n",
    "    for producto in inventario:\n",
    "        if producto['nombre'] == nombre:\n",
    "            producto['cantidad'] += cantidad\n",
    "            break\n",
    "    else:\n",
    "        inventario.append({ 'nombre' : nombre, 'precio': precio, 'cantidad': cantidad })\n"
   ]
  },
  {
   "cell_type": "code",
   "execution_count": 371,
   "id": "e40dbc1f",
   "metadata": {},
   "outputs": [
    {
     "data": {
      "text/plain": [
       "0"
      ]
     },
     "execution_count": 371,
     "metadata": {},
     "output_type": "execute_result"
    }
   ],
   "source": [
    "len(inventario)"
   ]
  },
  {
   "cell_type": "code",
   "execution_count": 372,
   "id": "8f99f488",
   "metadata": {},
   "outputs": [
    {
     "data": {
      "text/plain": [
       "[{'nombre': 'Camisa', 'precio': 20, 'cantidad': 35},\n",
       " {'nombre': 'Pantalón', 'precio': 30, 'cantidad': 15}]"
      ]
     },
     "execution_count": 372,
     "metadata": {},
     "output_type": "execute_result"
    }
   ],
   "source": [
    "#Ejemplo de uso\n",
    "agregar_producto('Camisa', 20, 25)\n",
    "agregar_producto('Pantalón', 30, 15)\n",
    "agregar_producto('Camisa', 20, 10)\n",
    "inventario"
   ]
  },
  {
   "cell_type": "code",
   "execution_count": 373,
   "id": "1a8f54df",
   "metadata": {},
   "outputs": [
    {
     "data": {
      "text/plain": [
       "0"
      ]
     },
     "execution_count": 373,
     "metadata": {},
     "output_type": "execute_result"
    }
   ],
   "source": [
    "id_producto\n"
   ]
  },
  {
   "cell_type": "code",
   "execution_count": 374,
   "id": "58882ccf",
   "metadata": {},
   "outputs": [
    {
     "data": {
      "text/plain": [
       "0"
      ]
     },
     "execution_count": 374,
     "metadata": {},
     "output_type": "execute_result"
    }
   ],
   "source": [
    "id_producto"
   ]
  },
  {
   "cell_type": "code",
   "execution_count": 375,
   "id": "61dfac22",
   "metadata": {},
   "outputs": [],
   "source": [
    "inventario.clear()\n",
    "#2 Crea una función `agregar_cliente(nombre, email)`: Esta función agrega un cliente al registro de clientes. Debe recibir el nombre y el correo electrónico del cliente como parámetros."
   ]
  },
  {
   "cell_type": "code",
   "execution_count": 376,
   "id": "d7c2123b",
   "metadata": {},
   "outputs": [
    {
     "data": {
      "text/plain": [
       "[]"
      ]
     },
     "execution_count": 376,
     "metadata": {},
     "output_type": "execute_result"
    }
   ],
   "source": [
    "inventario"
   ]
  },
  {
   "cell_type": "code",
   "execution_count": 377,
   "id": "89af4255",
   "metadata": {},
   "outputs": [],
   "source": [
    "inventario\n",
    "agregar_producto('pantalón', 20, 25)"
   ]
  },
  {
   "cell_type": "code",
   "execution_count": null,
   "id": "ea43306b",
   "metadata": {},
   "outputs": [
    {
     "name": "stdout",
     "output_type": "stream",
     "text": [
      "nombre: pantalón, Precio: $20, Cantidad: 25\n"
     ]
    }
   ],
   "source": [
    "#2. `ver_inventario()`: Muestra el inventario de productos con sus detalles.\n",
    "#- Utiliza un bucle `for` para recorrer e0l inventario.\n",
    "#- Imprime los detalles (nombre, precio, cantidad) de cada producto.\n",
    "#Debería verse:\n",
    "#python\n",
    "#Nombre: Camisa, Precio: $20, Cantidad: 50\n",
    "#Nombre: Pantalón, Precio: $30, Cantidad: 30\n",
    "#Nombre: Zapatos, Precio: $50, Cantidad: 40\n",
    "#Nombre: Camisa, Precio: $20, Cantidad: 50\n",
    "def ver_inventario():\n",
    "    for product in inventario:\n",
    "        print(f\"nombre: {product['nombre']}, Precio: ${product['precio']}, Cantidad: {product['cantidad']}\")\n",
    "ver_inventario()"
   ]
  },
  {
   "cell_type": "code",
   "execution_count": 379,
   "id": "543543d5",
   "metadata": {},
   "outputs": [
    {
     "name": "stdout",
     "output_type": "stream",
     "text": [
      "nombre: pantalón, Precio: $20, Cantidad: 25\n"
     ]
    }
   ],
   "source": [
    "ver_inventario()"
   ]
  },
  {
   "cell_type": "markdown",
   "id": "dbf6ad02",
   "metadata": {},
   "source": []
  },
  {
   "cell_type": "code",
   "execution_count": null,
   "id": "f374247b",
   "metadata": {},
   "outputs": [],
   "source": [
    "#3. `buscar_producto(nombre)`: Busca un producto en el inventario por nombre\n",
    "#y muestra sus detalles si se encuentra. Debe recibir el nombre del producto\n",
    "#como parámetro.\n",
    "#- Utiliza un bucle `for` para recorrer el inventario.\n",
    "#- Compara los nombres de los productos con el nombre proporcionado.\n",
    "#- Si se encuentra el producto, imprime sus detalles.\n",
    "#- Debe mostrar:\n",
    "#```python\n",
    "#Nombre: Camisa, Precio: $20, Cantidad: 40\n",
    "\n",
    "def buscar_producto(nombre):\n",
    "    for product in inventario:\n",
    "        if product['nombre'] == nombre:\n",
    "            print(f\"Nombre: {product['nombre']}, Precio: ${product['precio']}, Cantidad: {product['cantidad']}\")\n",
    "            return\n",
    "\n",
    "\n"
   ]
  },
  {
   "cell_type": "code",
   "execution_count": null,
   "id": "20789214",
   "metadata": {},
   "outputs": [],
   "source": [
    "#4. `actualizar_stock(nombre, cantidad)`: Actualiza el stock de un producto\n",
    "#en el inventario. Debe recibir el nombre del producto y la cantidad a\n",
    "#agregar o quitar como parámetros.\n",
    "#- Utiliza un bucle `for` para recorrer el inventario.\n",
    "#- Busca el producto por nombre.\n",
    "#- Actualiza la cantidad según la entrada del usuario.\n",
    "#- Si el producto no esta en el inventario muestra un mensaje indicándolo.\n",
    "\n",
    "def actualizar_stock(nombre, cantidad): \n",
    "    product_encontrado = True\n",
    "    for product in inventario:\n",
    "        if product['nombre'] == nombre:\n",
    "            product_encontrado = True\n",
    "            if cantidad >= 0:\n",
    "                product['cantidad'] += cantidad\n",
    "            else: \n",
    "               if product['cantidad'] >= abs(cantidad):\n",
    "                   product['cantidad'] -= abs(cantidad)\n",
    "               else:\n",
    "                   print(f\"No se puede quitar {abs(cantidad)} del producto {nombre} porque no hay suficiente stock.\")\n",
    "            return\n",
    "    if not product_encontrado:\n",
    "        print(f\"El producto {nombre} no se encuentra en el inventario.\")"
   ]
  },
  {
   "cell_type": "code",
   "execution_count": null,
   "id": "b0469d7f",
   "metadata": {},
   "outputs": [
    {
     "ename": "IndentationError",
     "evalue": "unindent does not match any outer indentation level (<string>, line 14)",
     "output_type": "error",
     "traceback": [
      "\u001b[0;36m  File \u001b[0;32m<string>:14\u001b[0;36m\u001b[0m\n\u001b[0;31m    for product in inventario = False\u001b[0m\n\u001b[0m                                     ^\u001b[0m\n\u001b[0;31mIndentationError\u001b[0m\u001b[0;31m:\u001b[0m unindent does not match any outer indentation level\n"
     ]
    }
   ],
   "source": [
    "#5. `eliminar_producto(nombre)`: Elimina un producto del inventario por\n",
    "#nombre. Debe recibir el nombre del producto como parámetro.\n",
    "#- Utiliza un bucle `for` para recorrer el inventario.\n",
    "#- Busca el producto por nombre.\n",
    "#- Elimina el producto del inventario si existe.\n",
    "#- Si el producto no esta en el inventario muestra un mensaje\n",
    "#indicándolo.\n",
    "def eliminar_producto(nombre):\n",
    "    for product in inventario:\n",
    "        if product['nombre'] == nombre:\n",
    "            inventario.remove(product)\n",
    "            print(f\"El producto {nombre} ha sido eliminado del inventario.\")\n",
    "            return\n",
    "   for product in inventario:\n",
    "    if product not in\n",
    "    print(f\"El producto {nombre} no se encuentra en el inventario.\")\n",
    "\n",
    "\n"
   ]
  },
  {
   "cell_type": "code",
   "execution_count": null,
   "id": "17a7df42",
   "metadata": {},
   "outputs": [],
   "source": [
    "#6. `calcular_valor_inventario()`: Calcula y muestra el valor total del inventario.\n",
    "# Utiliza un bucle for para calcular el valor total del inventario.\n",
    "#- Itera a través del inventario y suma el valor de cada producto\n",
    "#(precio x cantidad). Es decir, calcula el valor total del inventario.\n",
    "#Ejemplo:\n",
    "# si tenemos 5 camisas que valen 5 euros\n",
    "# y 10 calcetines que valen 1 euro\n",
    "# este método te tiene que devolver: 35 euros#"
   ]
  }
 ],
 "metadata": {
  "kernelspec": {
   "display_name": "base",
   "language": "python",
   "name": "python3"
  },
  "language_info": {
   "codemirror_mode": {
    "name": "ipython",
    "version": 3
   },
   "file_extension": ".py",
   "mimetype": "text/x-python",
   "name": "python",
   "nbconvert_exporter": "python",
   "pygments_lexer": "ipython3",
   "version": "3.12.7"
  }
 },
 "nbformat": 4,
 "nbformat_minor": 5
}
