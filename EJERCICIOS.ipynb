{
 "cells": [
  {
   "cell_type": "code",
   "execution_count": 23,
   "id": "e3cbf77a",
   "metadata": {},
   "outputs": [],
   "source": [
    "#ESTRUCTURAS EVALUACIÓN MÓDULO 1\n",
    "#1. `inventario` (lista de diccionarios): Una estructura para almacenar los productos en el inventario. Cada producto debe ser representado como un diccionario con las siguientes claves: `'nombre'`, `'precio'`, y'cantidad'`. Al principio deberá ser una lista vacía.\n",
    "lista_de_diccionarios = []\n",
    "diccionario1 = {'nombre':'','precio':'','cantidad':''}\n",
    "diccionario2 = {'nombre':'','precio':'','cantidad':''}\n",
    "diccionario3 = {'nombre':'','precio':'','cantidad':''}\n",
    "inventario = [diccionario1,diccionario2,diccionario3]\n",
    "lista_de_dicionarios = inventario"
   ]
  },
  {
   "cell_type": "code",
   "execution_count": 24,
   "id": "def37d46",
   "metadata": {},
   "outputs": [
    {
     "data": {
      "text/plain": [
       "[{'nombre': '', 'precio': '', 'cantidad': ''},\n",
       " {'nombre': '', 'precio': '', 'cantidad': ''},\n",
       " {'nombre': '', 'precio': '', 'cantidad': ''}]"
      ]
     },
     "execution_count": 24,
     "metadata": {},
     "output_type": "execute_result"
    }
   ],
   "source": [
    "inventario"
   ]
  },
  {
   "cell_type": "code",
   "execution_count": 25,
   "id": "1e924406",
   "metadata": {},
   "outputs": [
    {
     "data": {
      "text/plain": [
       "list"
      ]
     },
     "execution_count": 25,
     "metadata": {},
     "output_type": "execute_result"
    }
   ],
   "source": [
    "type(inventario)"
   ]
  },
  {
   "cell_type": "code",
   "execution_count": 10,
   "id": "758e9efa",
   "metadata": {},
   "outputs": [],
   "source": [
    "#2. `clientes` (diccionario): Una estructura para llevar un registro de los clientes de la tienda. Cada cliente debe ser representado como undiccionario con las siguientes claves: `'nombre'` y `'email'`. Al inicio deberá ser un diccionario vacío. Además, cada cliente debe tener un historial de compras.\n",
    "\n",
    "clientes = {}\n",
    "diccionario = {'Cliente1': {'email': '', 'compras': []},\n",
    "'Cliente2': {'email': '', 'compras': []}}\n",
    "clientes = diccionario"
   ]
  },
  {
   "cell_type": "code",
   "execution_count": 12,
   "id": "116c688b",
   "metadata": {},
   "outputs": [
    {
     "data": {
      "text/plain": [
       "{'Cliente1': {'email': '', 'compras': []},\n",
       " 'Cliente2': {'email': '', 'compras': []}}"
      ]
     },
     "execution_count": 12,
     "metadata": {},
     "output_type": "execute_result"
    }
   ],
   "source": [
    "clientes"
   ]
  },
  {
   "cell_type": "code",
   "execution_count": 13,
   "id": "24c9ade4",
   "metadata": {},
   "outputs": [
    {
     "data": {
      "text/plain": [
       "dict"
      ]
     },
     "execution_count": 13,
     "metadata": {},
     "output_type": "execute_result"
    }
   ],
   "source": [
    "type (clientes)"
   ]
  },
  {
   "cell_type": "code",
   "execution_count": 21,
   "id": "64e3be23",
   "metadata": {},
   "outputs": [],
   "source": [
    "#3. `ventas_totales` (float): Una variable para llevar un registro de las ventas totales de la tienda. Inicializalo con valor 0.\n",
    "ventas_totales = 0.0"
   ]
  },
  {
   "cell_type": "code",
   "execution_count": 22,
   "id": "d8f6a9c4",
   "metadata": {},
   "outputs": [
    {
     "data": {
      "text/plain": [
       "float"
      ]
     },
     "execution_count": 22,
     "metadata": {},
     "output_type": "execute_result"
    }
   ],
   "source": [
    "type (ventas_totales)"
   ]
  },
  {
   "cell_type": "code",
   "execution_count": null,
   "id": "c792419e",
   "metadata": {},
   "outputs": [],
   "source": []
  }
 ],
 "metadata": {
  "kernelspec": {
   "display_name": "base",
   "language": "python",
   "name": "python3"
  },
  "language_info": {
   "codemirror_mode": {
    "name": "ipython",
    "version": 3
   },
   "file_extension": ".py",
   "mimetype": "text/x-python",
   "name": "python",
   "nbconvert_exporter": "python",
   "pygments_lexer": "ipython3",
   "version": "3.12.7"
  }
 },
 "nbformat": 4,
 "nbformat_minor": 5
}
